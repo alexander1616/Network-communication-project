{
 "cells": [
  {
   "cell_type": "markdown",
   "id": "89d96dfe",
   "metadata": {},
   "source": [
    "    ### python networking server code sample"
   ]
  },
  {
   "cell_type": "code",
   "execution_count": null,
   "id": "a441e3e1",
   "metadata": {},
   "outputs": [],
   "source": [
    "#!/usr/bin/python\n",
    "\n",
    "#This is tcp_server.py script\n",
    "\n",
    "import socket\n",
    "\n",
    "def serverInit(host=\"localhost\", port=8080, backlog=5) :\n",
    "    s = socket.socket()\n",
    "    #host = socket.gethostname()\n",
    "    \n",
    "    s.setsockopt(socket.SOL_SOCKET, socket.SO_REUSEADDR, 1)\n",
    "    s.bind( (host, port) )\n",
    "    print(\"Listening from {}@{}\".format(host, port))\n",
    "    print(\"allow max {} user to wait on connect\".format(backlog))\n",
    "\n",
    "    s.listen(backlog)\n",
    "    return s\n",
    "\n",
    "def serverEcho(s):\n",
    "    while True:\n",
    "        msg = s.recv(1024)\n",
    "        smsg = msg.decode()\n",
    "        print(\"Recv msg [{}]\".format(smsg))\n",
    "        if smsg == \"EXIT\":\n",
    "            print(\"Got EXIT from client\\n\")\n",
    "            return\n",
    "        else:\n",
    "            print (\"Sending msg back to client [{}]\", smsg)\n",
    "            s.send(smsg.encode()) \n",
    "            \n",
    "def sendInt(s, value):\n",
    "    bvalue = value.to_bytes(4, 'little', signed=False)\n",
    "    print(\"sendInt value[{}] bvalue[{}]\".format(value, bvalue))\n",
    "    s.send(bvalue)\n",
    "\n",
    "def recvInt(s):\n",
    "    bvalue = s.recv(4)\n",
    "    value = int.from_bytes(bvalue, 'little', signed=False)\n",
    "    print(\"recvInt value[{}] bvalue[{}]\".format(value, bvalue))\n",
    "    return value\n",
    "\n",
    "def serverEchoInt(s):\n",
    "    termValue = 0\n",
    "    while True:\n",
    "        value = recvInt(s)\n",
    "        print(\"Recv value[{}]\".format( value))\n",
    "        if termValue == value:\n",
    "            print(\"Recv terminate value\", value)\n",
    "            return\n",
    "        if termValue == 0:\n",
    "            termValue = value\n",
    "        \n",
    "        ### add two to the value\n",
    "        value += 2\n",
    "        sendInt(s, value)\n",
    "    \n",
    "def serverLoop(s):\n",
    "    while True:\n",
    "        print(\"Waiting for user\")\n",
    "        conn,addr = s.accept()\n",
    "        print ('Got Connection from', addr)\n",
    "        serverEcho(conn)\n",
    "        conn.close()\n",
    "           \n",
    "           "
   ]
  },
  {
   "cell_type": "code",
   "execution_count": null,
   "id": "96e81609",
   "metadata": {
    "scrolled": true
   },
   "outputs": [],
   "source": [
    "s = serverInit()\n",
    "\n",
    "serverLoop(s)\n"
   ]
  },
  {
   "cell_type": "code",
   "execution_count": null,
   "id": "889bf87f",
   "metadata": {},
   "outputs": [],
   "source": []
  },
  {
   "cell_type": "code",
   "execution_count": null,
   "id": "775cefab",
   "metadata": {},
   "outputs": [],
   "source": []
  }
 ],
 "metadata": {
  "kernelspec": {
   "display_name": "Python 3 (ipykernel)",
   "language": "python",
   "name": "python3"
  },
  "language_info": {
   "codemirror_mode": {
    "name": "ipython",
    "version": 3
   },
   "file_extension": ".py",
   "mimetype": "text/x-python",
   "name": "python",
   "nbconvert_exporter": "python",
   "pygments_lexer": "ipython3",
   "version": "3.10.6"
  }
 },
 "nbformat": 4,
 "nbformat_minor": 5
}
