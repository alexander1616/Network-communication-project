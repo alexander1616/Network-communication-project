{
 "cells": [
  {
   "cell_type": "markdown",
   "id": "5253a035",
   "metadata": {},
   "source": [
    "### Python networking client sample"
   ]
  },
  {
   "cell_type": "code",
   "execution_count": 1,
   "id": "55fcc7a0",
   "metadata": {},
   "outputs": [],
   "source": [
    "#!/usr/bin/python\n",
    "\n",
    "#This is tcp_client.py script\n",
    "\n",
    "import socket\n",
    "\n",
    "def clientInit(host=\"localhost\", port=8080):\n",
    "    try:\n",
    "        s = socket.socket()\n",
    "        print(\"Trying to connect {}@{}\".format(host, port))\n",
    "        s.connect( (host,port) )\n",
    "        print(\"Connected to %s@%d\" % (host, port) )\n",
    "        return s\n",
    "    except Exception as e:\n",
    "        print(\"Failed to connect to {}@{}\".format(host, port))\n",
    "        raise Exception(e)\n",
    "    \n",
    "def clientDone(s):\n",
    "    s.close()\n",
    "\n",
    "def sendPingPong(s, msg):\n",
    "    print(\"Send Ping msg[{}]\".format(msg))\n",
    "    s.send(msg.encode())\n",
    "    rmsg = s.recv(1024)\n",
    "    print(\"Recv Pong msg[{}]\".format(rmsg))\n",
    "    \n",
    "def sendMsg(s, msg):\n",
    "    print(\"SendMsg msg[{}]\".format(msg))\n",
    "    s.send(msg.encode())\n",
    "\n",
    "def sendInt(s, value):\n",
    "    bvalue = value.to_bytes(4, 'little', signed=False)\n",
    "    print(\"sendInt value[{}] bvalue[{}]\".format(value, bvalue))\n",
    "    s.send(bvalue)\n",
    "\n",
    "def recvInt(s):\n",
    "    bvalue = s.recv(4)\n",
    "    value = int.from_bytes(bvalue, 'little', signed=False)\n",
    "    print(\"recvInt value[{}] bvalue[{}]\".format(value, bvalue))\n",
    "    return value\n",
    "\n"
   ]
  },
  {
   "cell_type": "code",
   "execution_count": null,
   "id": "5ea413af",
   "metadata": {},
   "outputs": [],
   "source": [
    "### string send\n",
    "try:\n",
    "    s = clientInit(\"localhost\", 8080)\n",
    "    if s is not None:\n",
    "        for i in range(10):\n",
    "            msg = \"Helloy msg %d\"%(i);\n",
    "            sendPingPong(s, msg)\n",
    "        sendMsg(msg=\"EXIT\", s=s)\n",
    "        s.close()\n",
    "except Exception as e:\n",
    "    print(\"Error!\", e)\n",
    "print(\"Bye\")"
   ]
  },
  {
   "cell_type": "code",
   "execution_count": null,
   "id": "b823db4a",
   "metadata": {},
   "outputs": [],
   "source": [
    "### sending integer\n",
    "firstValue = 9999\n",
    "s = clientInit(\"localhost\", 8080)\n",
    "value = firstValue\n",
    "for i in range(5):\n",
    "    sendInt(s, value)\n",
    "    value = recvInt(s) - 1\n",
    "\n",
    "sendInt(s, firstValue)\n",
    "clientDone(s)\n",
    "print(\"Bye\")\n",
    "    "
   ]
  },
  {
   "cell_type": "code",
   "execution_count": null,
   "id": "2d65c6bc",
   "metadata": {},
   "outputs": [],
   "source": []
  }
 ],
 "metadata": {
  "kernelspec": {
   "display_name": "Python 3 (ipykernel)",
   "language": "python",
   "name": "python3"
  },
  "language_info": {
   "codemirror_mode": {
    "name": "ipython",
    "version": 3
   },
   "file_extension": ".py",
   "mimetype": "text/x-python",
   "name": "python",
   "nbconvert_exporter": "python",
   "pygments_lexer": "ipython3",
   "version": "3.10.6"
  }
 },
 "nbformat": 4,
 "nbformat_minor": 5
}
